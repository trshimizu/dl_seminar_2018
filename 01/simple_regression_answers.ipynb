{
 "cells": [
  {
   "cell_type": "code",
   "execution_count": null,
   "metadata": {
    "collapsed": true
   },
   "outputs": [],
   "source": [
    "import numpy as np\n",
    "import matplotlib.pyplot as plt\n",
    "%matplotlib inline"
   ]
  },
  {
   "cell_type": "code",
   "execution_count": null,
   "metadata": {
    "collapsed": true
   },
   "outputs": [],
   "source": [
    "# data points（表示用）\n",
    "data = [[0, 1], [1, 1], [2, 2]]\n",
    "data_ar = np.array(data, dtype=np.float32)"
   ]
  },
  {
   "cell_type": "code",
   "execution_count": null,
   "metadata": {
    "collapsed": true
   },
   "outputs": [],
   "source": [
    "# モデルのプロット用関数\n",
    "x_val = np.linspace(-1, 3, 101)\n",
    "def plot(w):\n",
    "    plt.plot(x_val, w * x_val)\n",
    "    plt.scatter(data_ar[:, 0], data_ar[:, 1])\n",
    "    \n",
    "    plt.axhline(0, xmin=-1, xmax=3, c=\"gray\")\n",
    "    plt.axvline(0, ymin=-4, ymax=4, c=\"gray\")\n",
    "    plt.ylim([-4, 4])\n",
    "    \n",
    "    plt.xlabel(\"x\")\n",
    "    plt.ylabel(\"y\")"
   ]
  },
  {
   "cell_type": "code",
   "execution_count": null,
   "metadata": {
    "collapsed": true
   },
   "outputs": [],
   "source": [
    "# 途中経過表示用の関数\n",
    "def report(cost, w):\n",
    "    print(\"cost: {:>6.03f}, w: {:>6.03f}\".format(cost, w))"
   ]
  },
  {
   "cell_type": "code",
   "execution_count": null,
   "metadata": {
    "collapsed": true
   },
   "outputs": [],
   "source": []
  },
  {
   "cell_type": "code",
   "execution_count": null,
   "metadata": {},
   "outputs": [],
   "source": [
    "# パラメータ初期値におけるモデル\n",
    "w = -3\n",
    "plot(w)"
   ]
  },
  {
   "cell_type": "code",
   "execution_count": null,
   "metadata": {},
   "outputs": [],
   "source": [
    "# 実際の計算\n",
    "w = -3\n",
    "\n",
    "alpha = 0.1\n",
    "history = list()\n",
    "\n",
    "for i in range(50):\n",
    "    cost = (5. * (w ** 2.) - 10. * w + 6.) / 6.\n",
    "    report(cost, w)\n",
    "    history.append(cost)\n",
    "\n",
    "    deriv = (5. / 3.) * (w - 1.)\n",
    "    w = w - alpha * deriv\n",
    "    \n",
    "report(cost, w)"
   ]
  },
  {
   "cell_type": "code",
   "execution_count": null,
   "metadata": {},
   "outputs": [],
   "source": [
    "# 結果として得られたモデルの可視化\n",
    "plot(w)"
   ]
  },
  {
   "cell_type": "code",
   "execution_count": null,
   "metadata": {},
   "outputs": [],
   "source": [
    "# 学習曲線\n",
    "plt.plot(history)\n",
    "plt.xlabel(\"iterations\")\n",
    "plt.ylabel(\"cost\")"
   ]
  },
  {
   "cell_type": "code",
   "execution_count": null,
   "metadata": {
    "collapsed": true
   },
   "outputs": [],
   "source": []
  }
 ],
 "metadata": {
  "kernelspec": {
   "display_name": "Python 3",
   "language": "python",
   "name": "python3"
  },
  "language_info": {
   "codemirror_mode": {
    "name": "ipython",
    "version": 3
   },
   "file_extension": ".py",
   "mimetype": "text/x-python",
   "name": "python",
   "nbconvert_exporter": "python",
   "pygments_lexer": "ipython3",
   "version": "3.6.1"
  }
 },
 "nbformat": 4,
 "nbformat_minor": 2
}
